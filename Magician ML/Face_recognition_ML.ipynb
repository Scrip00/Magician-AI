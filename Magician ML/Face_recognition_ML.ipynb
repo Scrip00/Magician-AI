{
 "cells": [
  {
   "cell_type": "code",
   "execution_count": 1,
   "id": "a4e00a03",
   "metadata": {},
   "outputs": [
    {
     "name": "stdout",
     "output_type": "stream",
     "text": [
      "2.9.0\n"
     ]
    }
   ],
   "source": [
    "from PIL import Image, ImageFont, ImageDraw \n",
    "import glob\n",
    "import string\n",
    "import random\n",
    "import os\n",
    "import shutil\n",
    "import math\n",
    "import tensorflow as tf\n",
    "print(tf.__version__)\n",
    "from sklearn.utils import shuffle\n",
    "from tensorflow import keras\n",
    "from tensorflow.keras.layers import Flatten\n",
    "from tensorflow.keras.optimizers import Adam\n",
    "from tensorflow.keras.callbacks import EarlyStopping\n",
    "from sklearn.metrics import confusion_matrix\n",
    "from sklearn.model_selection import train_test_split\n",
    "import seaborn as sns\n",
    "import numpy as np \n",
    "import matplotlib.pyplot as plt \n",
    "from keras import backend as K \n",
    "import cv2\n",
    "import random\n",
    "import shutil\n",
    "import stat\n",
    "\n",
    "width = 128\n",
    "height = 128"
   ]
  },
  {
   "cell_type": "code",
   "execution_count": 2,
   "id": "148df3b6",
   "metadata": {
    "scrolled": true
   },
   "outputs": [],
   "source": [
    "data_path = \"C:/Users/Scrip0/Desktop/Internships/Magician AI/MagicianDatasetApp/Data\"\n",
    "ext = [\"jpg\",\"png\", \"jpeg\"];\n",
    "\n",
    "def read_img(path):\n",
    "    img = cv2.resize(cv2.imread(path, cv2.IMREAD_COLOR), (width, height))\n",
    "    return img\n",
    "\n",
    "def equalize_dataset(path):\n",
    "    c = 0\n",
    "    true_dirs = []\n",
    "    for it in os.scandir(path + \"/False\"):\n",
    "        if it.is_dir():\n",
    "            c += 1\n",
    "    for it in os.scandir(path + \"/True\"):\n",
    "        if it.is_dir():\n",
    "            true_dirs.append(it.path)\n",
    "    \n",
    "    while (len(true_dirs) > c):\n",
    "        dir = random.choice(true_dirs)\n",
    "        true_dirs.remove(dir)\n",
    "        os.chmod(dir, stat.S_IRUSR | stat.S_IWUSR | stat.S_IXUSR)\n",
    "        shutil.rmtree(dir)"
   ]
  },
  {
   "cell_type": "code",
   "execution_count": 3,
   "id": "b5a1bb70",
   "metadata": {},
   "outputs": [
    {
     "name": "stdout",
     "output_type": "stream",
     "text": [
      "Imgs len:  600\n",
      "Labels len:  600\n"
     ]
    }
   ],
   "source": [
    "equalize_dataset(data_path)\n",
    "imgs = []\n",
    "labels = []\n",
    "\n",
    "for path in glob.glob(f'{data_path + \"/True\"}/*/'):\n",
    "    for files in (files for files in (glob.glob(path + '/*.%s' % e) for e in ext) if files != []):\n",
    "        for file in files:\n",
    "            imgs.append(read_img(file))\n",
    "            labels.append(1.0)\n",
    "\n",
    "for path in glob.glob(f'{data_path + \"/False\"}/*/'):\n",
    "    for files in (files for files in (glob.glob(path + '/*.%s' % e) for e in ext) if files != []):\n",
    "        for file in files:\n",
    "            imgs.append(read_img(file))\n",
    "            labels.append(0.0)\n",
    "            \n",
    "print(\"Imgs len: \", len(imgs))\n",
    "print(\"Labels len: \", len(labels))"
   ]
  },
  {
   "cell_type": "code",
   "execution_count": 4,
   "id": "46c83d41",
   "metadata": {},
   "outputs": [],
   "source": [
    "imgs, labels = shuffle(imgs, labels)"
   ]
  },
  {
   "cell_type": "code",
   "execution_count": 5,
   "id": "2dd74e06",
   "metadata": {},
   "outputs": [],
   "source": [
    "imgs = np.array(imgs) / 256.0\n",
    "labels = np.array(labels)"
   ]
  },
  {
   "cell_type": "code",
   "execution_count": 6,
   "id": "55d2d994",
   "metadata": {},
   "outputs": [],
   "source": [
    "x_train, x_test, y_train, y_test = train_test_split(imgs, labels, train_size=0.8, random_state=1) \n",
    "images = []\n",
    "labels = []"
   ]
  },
  {
   "cell_type": "code",
   "execution_count": 7,
   "id": "13c0591f",
   "metadata": {
    "scrolled": true
   },
   "outputs": [
    {
     "name": "stdout",
     "output_type": "stream",
     "text": [
      "(480, 128, 128, 3)\n",
      "(120, 128, 128, 3)\n"
     ]
    }
   ],
   "source": [
    "print(x_train.shape)\n",
    "print(x_test.shape)"
   ]
  },
  {
   "cell_type": "code",
   "execution_count": 8,
   "id": "c4f378a6",
   "metadata": {
    "scrolled": true
   },
   "outputs": [],
   "source": [
    "model = keras.Sequential()\n",
    "\n",
    "model.add(keras.Input(shape=(width, height, 3))) #3 if RGB, 1 if GrayScale\n",
    "\n",
    "model.add(tf.keras.layers.Conv2D(128, 5, activation=\"relu\", padding=\"same\"))\n",
    "model.add(tf.keras.layers.MaxPooling2D(2))\n",
    "model.add(tf.keras.layers.BatchNormalization())\n",
    "\n",
    "model.add(tf.keras.layers.Conv2D(128, 5, activation=\"relu\", padding=\"same\"))\n",
    "model.add(tf.keras.layers.MaxPooling2D(2))\n",
    "model.add(tf.keras.layers.BatchNormalization())\n",
    "\n",
    "model.add(tf.keras.layers.Conv2D(64, 5, activation=\"relu\", padding=\"same\"))\n",
    "model.add(tf.keras.layers.MaxPooling2D(2))\n",
    "model.add(tf.keras.layers.BatchNormalization())\n",
    "\n",
    "model.add(tf.keras.layers.Conv2D(32, 5, activation=\"relu\", padding=\"same\"))\n",
    "model.add(tf.keras.layers.MaxPooling2D(2))\n",
    "model.add(tf.keras.layers.BatchNormalization())\n",
    "\n",
    "\n",
    "model.add(Flatten())\n",
    "model.add(tf.keras.layers.Dropout(0.2))\n",
    "\n",
    "model.add(tf.keras.layers.Dense(64, activation=\"relu\"))\n",
    "\n",
    "model.add(tf.keras.layers.Dense(1, activation=\"sigmoid\"))"
   ]
  },
  {
   "cell_type": "code",
   "execution_count": 9,
   "id": "bf9a0823",
   "metadata": {},
   "outputs": [
    {
     "name": "stdout",
     "output_type": "stream",
     "text": [
      "Model: \"sequential\"\n",
      "_________________________________________________________________\n",
      " Layer (type)                Output Shape              Param #   \n",
      "=================================================================\n",
      " conv2d (Conv2D)             (None, 128, 128, 128)     9728      \n",
      "                                                                 \n",
      " max_pooling2d (MaxPooling2D  (None, 64, 64, 128)      0         \n",
      " )                                                               \n",
      "                                                                 \n",
      " batch_normalization (BatchN  (None, 64, 64, 128)      512       \n",
      " ormalization)                                                   \n",
      "                                                                 \n",
      " conv2d_1 (Conv2D)           (None, 64, 64, 128)       409728    \n",
      "                                                                 \n",
      " max_pooling2d_1 (MaxPooling  (None, 32, 32, 128)      0         \n",
      " 2D)                                                             \n",
      "                                                                 \n",
      " batch_normalization_1 (Batc  (None, 32, 32, 128)      512       \n",
      " hNormalization)                                                 \n",
      "                                                                 \n",
      " conv2d_2 (Conv2D)           (None, 32, 32, 64)        204864    \n",
      "                                                                 \n",
      " max_pooling2d_2 (MaxPooling  (None, 16, 16, 64)       0         \n",
      " 2D)                                                             \n",
      "                                                                 \n",
      " batch_normalization_2 (Batc  (None, 16, 16, 64)       256       \n",
      " hNormalization)                                                 \n",
      "                                                                 \n",
      " conv2d_3 (Conv2D)           (None, 16, 16, 32)        51232     \n",
      "                                                                 \n",
      " max_pooling2d_3 (MaxPooling  (None, 8, 8, 32)         0         \n",
      " 2D)                                                             \n",
      "                                                                 \n",
      " batch_normalization_3 (Batc  (None, 8, 8, 32)         128       \n",
      " hNormalization)                                                 \n",
      "                                                                 \n",
      " flatten (Flatten)           (None, 2048)              0         \n",
      "                                                                 \n",
      " dropout (Dropout)           (None, 2048)              0         \n",
      "                                                                 \n",
      " dense (Dense)               (None, 64)                131136    \n",
      "                                                                 \n",
      " dense_1 (Dense)             (None, 1)                 65        \n",
      "                                                                 \n",
      "=================================================================\n",
      "Total params: 808,161\n",
      "Trainable params: 807,457\n",
      "Non-trainable params: 704\n",
      "_________________________________________________________________\n"
     ]
    }
   ],
   "source": [
    "model.summary()"
   ]
  },
  {
   "cell_type": "code",
   "execution_count": 10,
   "id": "be751839",
   "metadata": {},
   "outputs": [],
   "source": [
    "model.compile(optimizer=Adam(learning_rate=0.0005), loss=\"MeanSquaredError\")"
   ]
  },
  {
   "cell_type": "code",
   "execution_count": 11,
   "id": "eaeef028",
   "metadata": {},
   "outputs": [
    {
     "name": "stdout",
     "output_type": "stream",
     "text": [
      "Epoch 1/100\n",
      "24/24 [==============================] - 7s 141ms/step - loss: 0.3916 - val_loss: 0.2698\n",
      "Epoch 2/100\n",
      "24/24 [==============================] - 2s 81ms/step - loss: 0.2534 - val_loss: 0.2396\n",
      "Epoch 3/100\n",
      "24/24 [==============================] - 2s 80ms/step - loss: 0.2336 - val_loss: 0.2428\n",
      "Epoch 4/100\n",
      "24/24 [==============================] - 2s 80ms/step - loss: 0.2179 - val_loss: 0.2395\n",
      "Epoch 5/100\n",
      "24/24 [==============================] - 2s 80ms/step - loss: 0.2113 - val_loss: 0.2442\n",
      "Epoch 6/100\n",
      "24/24 [==============================] - 2s 80ms/step - loss: 0.2225 - val_loss: 0.2502\n",
      "Epoch 7/100\n",
      "24/24 [==============================] - 2s 80ms/step - loss: 0.1910 - val_loss: 0.2459\n",
      "Epoch 8/100\n",
      "24/24 [==============================] - 2s 80ms/step - loss: 0.1619 - val_loss: 0.2485\n",
      "Epoch 9/100\n",
      "24/24 [==============================] - 2s 81ms/step - loss: 0.1697 - val_loss: 0.2505\n"
     ]
    }
   ],
   "source": [
    "early_stop = EarlyStopping(patience=5, monitor='val_loss', restore_best_weights=True)\n",
    "history = model.fit(x_train, y_train, validation_data=(x_test, y_test), batch_size=20, epochs=100, callbacks=[early_stop])"
   ]
  },
  {
   "cell_type": "code",
   "execution_count": 12,
   "id": "ad143fdb",
   "metadata": {},
   "outputs": [],
   "source": [
    "model.save('Face_recognition.h5')"
   ]
  },
  {
   "cell_type": "code",
   "execution_count": 13,
   "id": "14012178",
   "metadata": {},
   "outputs": [
    {
     "name": "stdout",
     "output_type": "stream",
     "text": [
      "4/4 [==============================] - 3s 349ms/step\n",
      "[0.56771976 0.5908613  0.5660716  0.5773761  0.5967905  0.5774151\n",
      " 0.58186823 0.595079   0.5713429  0.5777708  0.5742147  0.5647354\n",
      " 0.5639777  0.5764492  0.5917775  0.5772131  0.5846955  0.5849412\n",
      " 0.5755203  0.5656903  0.58567023 0.5798804  0.5716051  0.59469867\n",
      " 0.5888333  0.57973856 0.5798804  0.5716051  0.5790182  0.5770877\n",
      " 0.5906457  0.58477014 0.5698273  0.5668689  0.596916   0.5763422\n",
      " 0.5844596  0.59731597 0.57674396 0.584375   0.57146615 0.5768574\n",
      " 0.59390384 0.569827   0.56980264 0.5821817  0.59228826 0.5765069\n",
      " 0.5759804  0.591582   0.5711896  0.5957708  0.5659428  0.5952689\n",
      " 0.57303566 0.5816515  0.57102877 0.58477014 0.5784501  0.5843603\n",
      " 0.5958815  0.58160824 0.58399004 0.58296096 0.5664884  0.57044435\n",
      " 0.5725015  0.5628801  0.58425575 0.5850159  0.57255036 0.57900906\n",
      " 0.5723183  0.5748968  0.59231144 0.5922974  0.57390964 0.5786078\n",
      " 0.57973856 0.57359844 0.5952491  0.5656601  0.5663473  0.59196836\n",
      " 0.57905567 0.59493524 0.583653   0.5750204  0.5775226  0.5843683\n",
      " 0.5807563  0.57320815 0.57438797 0.58165675 0.59282476 0.5640621\n",
      " 0.59112495 0.5924031  0.5703594  0.57259977 0.5740597  0.5965143\n",
      " 0.5832281  0.59548897 0.5927093  0.5964977  0.5728832  0.59526247\n",
      " 0.5705302  0.5912441  0.57747406 0.57537585 0.59150845 0.57448375\n",
      " 0.59193814 0.58089846 0.5645474  0.5912813  0.5965143  0.57888114]\n"
     ]
    }
   ],
   "source": [
    "result = model.predict(x_test).flatten()\n",
    "print(result)\n",
    "result = []\n",
    "K.clear_session()"
   ]
  },
  {
   "cell_type": "code",
   "execution_count": 14,
   "id": "01d378f4",
   "metadata": {},
   "outputs": [],
   "source": [
    "x_train, x_test, y_train, y_test = [], [], [], []"
   ]
  },
  {
   "cell_type": "code",
   "execution_count": null,
   "id": "bab90216",
   "metadata": {},
   "outputs": [],
   "source": []
  },
  {
   "cell_type": "code",
   "execution_count": null,
   "id": "da6ce2a6",
   "metadata": {},
   "outputs": [],
   "source": []
  },
  {
   "cell_type": "code",
   "execution_count": null,
   "id": "96d4f1c0",
   "metadata": {},
   "outputs": [],
   "source": []
  }
 ],
 "metadata": {
  "kernelspec": {
   "display_name": "gpu_env",
   "language": "python",
   "name": "gpu_env"
  },
  "language_info": {
   "codemirror_mode": {
    "name": "ipython",
    "version": 3
   },
   "file_extension": ".py",
   "mimetype": "text/x-python",
   "name": "python",
   "nbconvert_exporter": "python",
   "pygments_lexer": "ipython3",
   "version": "3.9.12"
  }
 },
 "nbformat": 4,
 "nbformat_minor": 5
}
