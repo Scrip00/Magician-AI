{
 "cells": [
  {
   "cell_type": "code",
   "execution_count": 50,
   "id": "501109a7",
   "metadata": {},
   "outputs": [
    {
     "name": "stdout",
     "output_type": "stream",
     "text": [
      "2.9.0\n"
     ]
    }
   ],
   "source": [
    "from PIL import Image, ImageFont, ImageDraw \n",
    "import glob\n",
    "import string\n",
    "import random\n",
    "import os\n",
    "import shutil\n",
    "import math\n",
    "import tensorflow as tf\n",
    "print(tf.__version__)\n",
    "from sklearn.utils import shuffle\n",
    "from tensorflow import keras\n",
    "from tensorflow.keras.layers import MaxPooling2D, BatchNormalization, Conv2D, Dense, Dropout, Flatten\n",
    "from tensorflow.keras.optimizers import Adam\n",
    "from tensorflow.keras.callbacks import EarlyStopping\n",
    "from tensorflow.keras.layers.experimental.preprocessing import RandomFlip, RandomRotation, Rescaling\n",
    "from tensorflow.keras import Input \n",
    "from tensorflow.keras.losses import BinaryCrossentropy\n",
    "from sklearn.metrics import confusion_matrix\n",
    "from sklearn.model_selection import train_test_split\n",
    "import seaborn as sns\n",
    "import numpy as np \n",
    "import matplotlib.pyplot as plt \n",
    "import cv2\n",
    "\n",
    "width = 128\n",
    "height = 128"
   ]
  },
  {
   "cell_type": "code",
   "execution_count": 51,
   "id": "205a3653",
   "metadata": {},
   "outputs": [],
   "source": [
    "data_path = \"C:/Users/Scrip0/Desktop/Internships/Magician AI/MagicianDatasetApp/Data\"\n",
    "img_ext = [\"jpg\",\"png\", \"jpeg\"];\n",
    "sound_ext = [\"mp3\"];\n",
    "ext = img_ext + sound_ext\n",
    "\n",
    "\n",
    "def read_img(path):\n",
    "    img = cv2.resize(cv2.imread(path, cv2.IMREAD_COLOR), (width, height))\n",
    "    img = np.array(img) / 256.0\n",
    "    return img\n",
    "\n",
    "fr_model = keras.models.load_model('Face_recognition.h5')"
   ]
  },
  {
   "cell_type": "code",
   "execution_count": 52,
   "id": "4f73d68c",
   "metadata": {},
   "outputs": [
    {
     "name": "stdout",
     "output_type": "stream",
     "text": [
      "Imgs len:  0\n",
      "Labels len:  17\n",
      "Images len:  17\n",
      "Sounds len:  17\n",
      "Images arr len:  30\n"
     ]
    }
   ],
   "source": [
    "imgs = []\n",
    "images = []\n",
    "labels = []\n",
    "sounds = []\n",
    "\n",
    "for path in glob.glob(f'{data_path + \"/True\"}/*/'):\n",
    "    for files in (files for files in (glob.glob(path + '/*.%s' % e) for e in ext) if files != []):\n",
    "        if (os.path.splitext(files[0])[1].split(\".\")[1] in sound_ext):\n",
    "             sounds.append(files[0])\n",
    "        else:\n",
    "            for file in files:\n",
    "                imgs.append(read_img(file))\n",
    "            images.append(fr_model.predict(np.array(imgs), verbose = 0))\n",
    "            labels.append(1.0)\n",
    "            imgs = []\n",
    "        \n",
    "for path in glob.glob(f'{data_path + \"/False\"}/*/'):\n",
    "    for files in (files for files in (glob.glob(path + '/*.%s' % e) for e in ext) if files != []):\n",
    "        if (os.path.splitext(files[0])[1].split(\".\")[1] in sound_ext):\n",
    "             sounds.append(files[0])\n",
    "        else:\n",
    "            for file in files:\n",
    "                imgs.append(read_img(file))\n",
    "            images.append(fr_model.predict(np.array(imgs), verbose = 0))\n",
    "            labels.append(0.0)\n",
    "            imgs = []\n",
    "\n",
    "print(\"Imgs len: \", len(imgs))\n",
    "print(\"Labels len: \", len(labels))\n",
    "print(\"Images len: \", len(images))\n",
    "print(\"Sounds len: \", len(sounds))\n",
    "\n",
    "print(\"Images arr len: \", len(images[0]))"
   ]
  },
  {
   "cell_type": "code",
   "execution_count": 53,
   "id": "c51dfd6e",
   "metadata": {},
   "outputs": [
    {
     "name": "stdout",
     "output_type": "stream",
     "text": [
      "[[0.61297554]\n",
      " [0.6129929 ]\n",
      " [0.612984  ]\n",
      " [0.61302054]\n",
      " [0.6141629 ]\n",
      " [0.61777323]\n",
      " [0.620445  ]\n",
      " [0.62266374]\n",
      " [0.620423  ]\n",
      " [0.62128925]\n",
      " [0.62037486]\n",
      " [0.6090984 ]\n",
      " [0.62113464]\n",
      " [0.62089354]\n",
      " [0.61971855]\n",
      " [0.6197652 ]\n",
      " [0.62283236]\n",
      " [0.619907  ]\n",
      " [0.619413  ]\n",
      " [0.61504716]\n",
      " [0.61329   ]\n",
      " [0.61735857]\n",
      " [0.6114036 ]\n",
      " [0.61929506]\n",
      " [0.6134375 ]\n",
      " [0.6114385 ]\n",
      " [0.6120786 ]\n",
      " [0.6106381 ]\n",
      " [0.6122975 ]\n",
      " [0.6127975 ]]\n"
     ]
    }
   ],
   "source": [
    "print(images[0])"
   ]
  },
  {
   "cell_type": "code",
   "execution_count": null,
   "id": "3f9c0fb7",
   "metadata": {},
   "outputs": [],
   "source": []
  },
  {
   "cell_type": "code",
   "execution_count": null,
   "id": "ce1f0b90",
   "metadata": {},
   "outputs": [],
   "source": []
  }
 ],
 "metadata": {
  "kernelspec": {
   "display_name": "gpu_env",
   "language": "python",
   "name": "gpu_env"
  },
  "language_info": {
   "codemirror_mode": {
    "name": "ipython",
    "version": 3
   },
   "file_extension": ".py",
   "mimetype": "text/x-python",
   "name": "python",
   "nbconvert_exporter": "python",
   "pygments_lexer": "ipython3",
   "version": "3.9.12"
  }
 },
 "nbformat": 4,
 "nbformat_minor": 5
}
